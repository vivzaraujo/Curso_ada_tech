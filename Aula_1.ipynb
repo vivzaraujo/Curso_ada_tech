{
 "cells": [
  {
   "cell_type": "code",
   "execution_count": 19,
   "id": "a44af43f-94b6-4a71-81ed-3768d75631e3",
   "metadata": {},
   "outputs": [],
   "source": [
    "import numpy as np"
   ]
  },
  {
   "cell_type": "code",
   "execution_count": 20,
   "id": "83433bc6-02dc-409c-92b1-30420953b2e5",
   "metadata": {},
   "outputs": [
    {
     "name": "stdout",
     "output_type": "stream",
     "text": [
      "[1, 2, 3, 4, 5, 6]\n",
      "[1 2 3 4 5 6]\n",
      "<class 'list'>\n",
      "<class 'numpy.ndarray'>\n"
     ]
    }
   ],
   "source": [
    "lista = [1,2,3,4,5,6]\n",
    "array = np.array(lista)\n",
    "print(lista)\n",
    "print(array)\n",
    "print(type(lista))\n",
    "print(type(array))"
   ]
  },
  {
   "cell_type": "code",
   "execution_count": 22,
   "id": "b6dfb97f-b71b-497b-8419-ab81dfd91001",
   "metadata": {},
   "outputs": [
    {
     "name": "stdout",
     "output_type": "stream",
     "text": [
      "[0. 0. 0. 0. 0. 0. 0. 0. 0. 0.]\n"
     ]
    }
   ],
   "source": [
    "arr_zeros = np.zeros(10)\n",
    "print (arr_zeros)"
   ]
  },
  {
   "cell_type": "code",
   "execution_count": 23,
   "id": "e5d28837-291d-4efb-ab7b-ea657e3876eb",
   "metadata": {},
   "outputs": [
    {
     "name": "stdout",
     "output_type": "stream",
     "text": [
      "[[0. 0. 0.]\n",
      " [0. 0. 0.]\n",
      " [0. 0. 0.]\n",
      " [0. 0. 0.]\n",
      " [0. 0. 0.]]\n"
     ]
    }
   ],
   "source": [
    "##Matrizes\n",
    "matriz_zeros = np.zeros((5,3))\n",
    "print(matriz_zeros)"
   ]
  },
  {
   "cell_type": "code",
   "execution_count": 32,
   "id": "b71eeb35-e06c-49db-b011-921d254cece2",
   "metadata": {},
   "outputs": [
    {
     "name": "stdout",
     "output_type": "stream",
     "text": [
      "Máximo 9.8\n",
      "Minimo 5.6\n",
      "Desvio padrão 1.5628179676469045\n",
      "Média 7.76\n",
      "Posição do menor 1\n",
      "Posição do maior 0\n"
     ]
    }
   ],
   "source": [
    "##nota de alunos\n",
    "lista_de_notas = [9.8,5.6,7.8,9.1,6.5]\n",
    "notas = np.array(lista_de_notas)\n",
    "print('Máximo', notas.max())\n",
    "print('Minimo', notas.min())\n",
    "print('Desvio padrão', notas.std())\n",
    "print('Média', notas.mean())\n",
    "print('Posição do menor', notas.argmin())\n",
    "print('Posição do maior', notas.argmax())"
   ]
  },
  {
   "cell_type": "code",
   "execution_count": 40,
   "id": "b981ca44-8810-4292-9445-882524264655",
   "metadata": {},
   "outputs": [
    {
     "name": "stdout",
     "output_type": "stream",
     "text": [
      "Qual a lista de notas?\n"
     ]
    },
    {
     "name": "stdin",
     "output_type": "stream",
     "text": [
      "None 8.9,3.2,5,9\n"
     ]
    },
    {
     "name": "stdout",
     "output_type": "stream",
     "text": [
      "Máximo 9.0\n",
      "Minimo 3.2\n",
      "Desvio padrão 2.5073641538476217\n",
      "Média 6.525\n",
      "Posição do menor 1\n",
      "Posição do maior 3\n"
     ]
    }
   ],
   "source": [
    "lista_de_notas = input(print(\"Qual a lista de notas?\"))\n",
    "notas = [float (elemento) for elemento in lista_de_notas.split(',')]  ## converter o texto de entrada em flot, separado pela ,\n",
    "notas = np.array(notas) ## Transsformar os elementos em um array --> Ou seja, lista otimizada para operações númericas\n",
    "print('Máximo', notas.max())\n",
    "print('Minimo', notas.min())\n",
    "print('Desvio padrão', notas.std())\n",
    "print('Média', notas.mean())\n",
    "print('Posição do menor', notas.argmin())\n",
    "print('Posição do maior', notas.argmax())"
   ]
  },
  {
   "cell_type": "code",
   "execution_count": 43,
   "id": "a13cdaa4-3c3f-4f74-a4ac-cb6e6de3390a",
   "metadata": {},
   "outputs": [
    {
     "name": "stdout",
     "output_type": "stream",
     "text": [
      "[ True False  True False  True False]\n",
      "['C19' 'No' 'C19' 'No' 'C19' 'No']\n"
     ]
    }
   ],
   "source": [
    "is_covid_positive = np.array(['Yes','No','Yes','No','Yes','No']) ### Lista de valores\n",
    "mask = (is_covid_positive =='Yes' ) ## Condição de validação se satisfas\n",
    "print(mask)\n",
    "is_covid_positive[mask] = 'C19' ## Substituir as condições que são true pelo valor proposto\n",
    "print(is_covid_positive) ## Nova lista "
   ]
  },
  {
   "cell_type": "code",
   "execution_count": 51,
   "id": "165a260b-23ec-4e25-b110-b98e4a04d246",
   "metadata": {},
   "outputs": [
    {
     "name": "stdout",
     "output_type": "stream",
     "text": [
      "[ True False  True  True  True False False]\n",
      "['Passou' 'Reprovou' 'Passou' 'Passou' 'Passou' 'Reprovou' 'Reprovou']\n"
     ]
    }
   ],
   "source": [
    "lista_de_notas = np.array([9.8,5.6,7.8,9.1,6.5,3.2,4.9]) ### Lista de valores\n",
    "mask = (lista_de_notas>= 6.0) ## Condição de validação se satisfas\n",
    "print(mask)\n",
    "resultado_final = np.where(mask, 'Passou', 'Reprovou') ## Aqui faz a função \"Case when\" do SQL\n",
    "print(resultado_final)"
   ]
  }
 ],
 "metadata": {
  "kernelspec": {
   "display_name": "Python 3 (ipykernel)",
   "language": "python",
   "name": "python3"
  },
  "language_info": {
   "codemirror_mode": {
    "name": "ipython",
    "version": 3
   },
   "file_extension": ".py",
   "mimetype": "text/x-python",
   "name": "python",
   "nbconvert_exporter": "python",
   "pygments_lexer": "ipython3",
   "version": "3.12.4"
  }
 },
 "nbformat": 4,
 "nbformat_minor": 5
}
