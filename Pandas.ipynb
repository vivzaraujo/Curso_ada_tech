{
 "cells": [
  {
   "cell_type": "code",
   "execution_count": 9,
   "id": "a218a5fe-5039-449d-8cfe-8d621113a8e5",
   "metadata": {},
   "outputs": [],
   "source": [
    "import pandas as pd"
   ]
  },
  {
   "cell_type": "code",
   "execution_count": 10,
   "id": "601d9dc1-f71d-48c3-90cb-8170b10742ad",
   "metadata": {},
   "outputs": [],
   "source": [
    "lista = [12, 23, 34, 45, 56, 67]\n",
    "serie_pandas = pd.Series(lista)"
   ]
  },
  {
   "cell_type": "code",
   "execution_count": 12,
   "id": "60b3319f-c854-4d75-bece-bda246df897f",
   "metadata": {},
   "outputs": [
    {
     "name": "stdout",
     "output_type": "stream",
     "text": [
      "0    12\n",
      "1    23\n",
      "2    34\n",
      "3    45\n",
      "4    56\n",
      "5    67\n",
      "dtype: int64\n"
     ]
    }
   ],
   "source": [
    "print(serie_pandas)"
   ]
  },
  {
   "cell_type": "code",
   "execution_count": 16,
   "id": "d49dbaf2-4e38-4af8-b378-18e8e5e724c1",
   "metadata": {},
   "outputs": [],
   "source": [
    "notas = {'Tiago' : 8, 'Guilherme' : 9.5, 'Juca' : 6.2}"
   ]
  },
  {
   "cell_type": "code",
   "execution_count": 18,
   "id": "62129f7e-77a2-488d-830d-6c7c80de34eb",
   "metadata": {},
   "outputs": [],
   "source": [
    "serie_notas = pd.Series(notas)"
   ]
  },
  {
   "cell_type": "code",
   "execution_count": 19,
   "id": "ed3575e3-0f97-4896-b941-572da4939385",
   "metadata": {},
   "outputs": [
    {
     "name": "stdout",
     "output_type": "stream",
     "text": [
      "8.0\n"
     ]
    }
   ],
   "source": [
    "print(serie_notas ['Tiago'])"
   ]
  },
  {
   "cell_type": "code",
   "execution_count": 23,
   "id": "3b8fabe1-fb2a-42e8-a693-85e71f60f192",
   "metadata": {},
   "outputs": [
    {
     "name": "stdout",
     "output_type": "stream",
     "text": [
      "7.8999999999999995\n"
     ]
    }
   ],
   "source": [
    "print(serie_notas.mean())"
   ]
  },
  {
   "cell_type": "code",
   "execution_count": 25,
   "id": "4d77dcda-ef9b-4f59-93e2-f168a4347e10",
   "metadata": {},
   "outputs": [
    {
     "name": "stdout",
     "output_type": "stream",
     "text": [
      "count    3.000000\n",
      "mean     7.900000\n",
      "std      1.652271\n",
      "min      6.200000\n",
      "25%      7.100000\n",
      "50%      8.000000\n",
      "75%      8.750000\n",
      "max      9.500000\n",
      "dtype: float64\n"
     ]
    }
   ],
   "source": [
    "print(serie_notas.describe())"
   ]
  },
  {
   "cell_type": "code",
   "execution_count": 30,
   "id": "b9294001-d19e-4870-9063-d2751fa7fd1d",
   "metadata": {},
   "outputs": [
    {
     "name": "stdout",
     "output_type": "stream",
     "text": [
      "               autor                  titulo  preco\n",
      "0   Machado de Assis            Dom Casmurro   39.9\n",
      "1  Clarice Lispector       A Hora da Estrela   29.9\n",
      "2        Jorge Amado       Capitães da Areia   34.9\n",
      "3       Paulo Coelho            O Alquimista   24.9\n",
      "4    Monteiro Lobato  Reinações de Narizinho   49.9\n"
     ]
    }
   ],
   "source": [
    "livros = [\n",
    "    {'autor': 'Machado de Assis', 'titulo': 'Dom Casmurro', 'preco': 39.90},\n",
    "    {'autor': 'Clarice Lispector', 'titulo': 'A Hora da Estrela', 'preco': 29.90},\n",
    "    {'autor': 'Jorge Amado', 'titulo': 'Capitães da Areia', 'preco': 34.90},\n",
    "    {'autor': 'Paulo Coelho', 'titulo': 'O Alquimista', 'preco': 24.90},\n",
    "    {'autor': 'Monteiro Lobato', 'titulo': 'Reinações de Narizinho', 'preco': 49.90}\n",
    "]\n",
    "db_livros = pd.DataFrame(livros) ##é uma estrutura de dados bidimensional semelhante a uma tabela em uma planilha ou um banco de dados\n",
    "print(db_livros) "
   ]
  },
  {
   "cell_type": "code",
   "execution_count": 34,
   "id": "aff3d2ff-309f-4d2c-bd7a-c53218a1388a",
   "metadata": {},
   "outputs": [
    {
     "data": {
      "text/plain": [
       "35.9"
      ]
     },
     "execution_count": 34,
     "metadata": {},
     "output_type": "execute_result"
    }
   ],
   "source": [
    "db_livros['preco'] ##Lista dos valores \n",
    "db_livros['preco'].mean() ##Média da lista de valores"
   ]
  },
  {
   "cell_type": "code",
   "execution_count": 46,
   "id": "9922314a-9bcd-45cd-a9e6-aa6e5598760d",
   "metadata": {},
   "outputs": [
    {
     "name": "stdout",
     "output_type": "stream",
     "text": [
      "                     autor                            titulo  preco\n",
      "0         Machado de Assis                      Dom Casmurro   39.9\n",
      "1        Clarice Lispector                 A Hora da Estrela   29.9\n",
      "2              Jorge Amado                 Capitães da Areia   34.9\n",
      "3             Paulo Coelho                      O Alquimista   24.9\n",
      "4          Monteiro Lobato            Reinações de Narizinho   49.9\n",
      "5   Gabriel Garcia Marquez               Cem Anos de Solidão   44.9\n",
      "6             J.K. Rowling  Harry Potter e a Pedra Filosofal   39.9\n",
      "7            George Orwell                              1984   29.9\n",
      "8           J.R.R. Tolkien                O Senhor dos Anéis   59.9\n",
      "9               Harper Lee                O Sol é Para Todos   34.9\n",
      "10  Gabriel Garcia Marquez               Cem Anos de Solidão   44.9\n",
      "11            J.K. Rowling  Harry Potter e a Pedra Filosofal   39.9\n",
      "12           George Orwell                              1984   29.9\n",
      "13          J.R.R. Tolkien                O Senhor dos Anéis   59.9\n",
      "14              Harper Lee                O Sol é Para Todos   34.9\n"
     ]
    }
   ],
   "source": [
    "novos_livros = {'autor': ['Gabriel Garcia Marquez', 'J.K. Rowling', 'George Orwell', 'J.R.R. Tolkien', 'Harper Lee'],\n",
    "    'titulo': ['Cem Anos de Solidão', 'Harry Potter e a Pedra Filosofal', '1984', 'O Senhor dos Anéis', 'O Sol é Para Todos'],\n",
    "    'preco': [44.90, 39.90, 29.90, 59.90, 34.90]} ##Lista nova\n",
    "novos_livros = pd.DataFrame(novos_livros) ## converter para a mesmo \"Formato\"\n",
    "db_livros = pd.concat([db_livros,novos_livros], ignore_index=True) ## Concatenar tudo\n",
    "print(db_livros)"
   ]
  },
  {
   "cell_type": "code",
   "execution_count": 52,
   "id": "5095d9a4-b280-4f12-8fd6-28670bff1d1f",
   "metadata": {},
   "outputs": [
    {
     "data": {
      "text/plain": [
       "0    Dom Casmurro\n",
       "Name: titulo, dtype: object"
      ]
     },
     "execution_count": 52,
     "metadata": {},
     "output_type": "execute_result"
    }
   ],
   "source": [
    "db_livros[db_livros['autor'] == 'Machado de Assis']['titulo'] ##Filtrar dentro dos livros o que são machado depois traze ro titulo"
   ]
  }
 ],
 "metadata": {
  "kernelspec": {
   "display_name": "Python 3 (ipykernel)",
   "language": "python",
   "name": "python3"
  },
  "language_info": {
   "codemirror_mode": {
    "name": "ipython",
    "version": 3
   },
   "file_extension": ".py",
   "mimetype": "text/x-python",
   "name": "python",
   "nbconvert_exporter": "python",
   "pygments_lexer": "ipython3",
   "version": "3.12.4"
  }
 },
 "nbformat": 4,
 "nbformat_minor": 5
}
