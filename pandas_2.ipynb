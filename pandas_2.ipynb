{
 "cells": [
  {
   "cell_type": "code",
   "execution_count": 35,
   "id": "454beb14-ef45-4595-8320-7646d815b92d",
   "metadata": {},
   "outputs": [
    {
     "name": "stdout",
     "output_type": "stream",
     "text": [
      "Collecting openpyxl\n",
      "  Downloading openpyxl-3.1.3-py2.py3-none-any.whl.metadata (2.5 kB)\n",
      "Collecting et-xmlfile (from openpyxl)\n",
      "  Downloading et_xmlfile-1.1.0-py3-none-any.whl.metadata (1.8 kB)\n",
      "Downloading openpyxl-3.1.3-py2.py3-none-any.whl (251 kB)\n",
      "   ---------------------------------------- 0.0/251.3 kB ? eta -:--:--\n",
      "   - -------------------------------------- 10.2/251.3 kB ? eta -:--:--\n",
      "   ------------------------------ --------- 194.6/251.3 kB 3.0 MB/s eta 0:00:01\n",
      "   ---------------------------------------- 251.3/251.3 kB 3.1 MB/s eta 0:00:00\n",
      "Downloading et_xmlfile-1.1.0-py3-none-any.whl (4.7 kB)\n",
      "Installing collected packages: et-xmlfile, openpyxl\n",
      "Successfully installed et-xmlfile-1.1.0 openpyxl-3.1.3\n"
     ]
    }
   ],
   "source": [
    "import pandas as pd\n",
    "import numpy as np\n",
    "!pip install openpyxl"
   ]
  },
  {
   "cell_type": "code",
   "execution_count": 23,
   "id": "906d7bf3-3efa-44d2-bf2d-374add41a19a",
   "metadata": {},
   "outputs": [
    {
     "name": "stdout",
     "output_type": "stream",
     "text": [
      "Base de dados salva com sucesso em 'base_de_dados.csv'\n"
     ]
    }
   ],
   "source": [
    "# Definindo uma semente aleatória para reprodutibilidade\n",
    "np.random.seed(0)\n",
    "\n",
    "# Gerando nomes aleatórios\n",
    "nomes = ['João', 'Maria', 'Pedro', 'Ana', 'Luiza', 'Carlos', 'Juliana', 'Rafael', 'Fernanda', 'Roberto']\n",
    "funcionarios = np.random.choice(nomes, 200)\n",
    "\n",
    "# Gerando idades aleatórias entre 20 e 60 anos\n",
    "idades = np.random.randint(20, 61, 200)\n",
    "\n",
    "# Gerando cargos aleatórios\n",
    "cargos = ['Analista', 'Gerente', 'Coordenador', 'Diretor', 'Desenvolvedor', 'Engenheiro', 'Especialista']\n",
    "cargos_funcionarios = np.random.choice(cargos, 200)\n",
    "\n",
    "# Gerando salários aleatórios entre 3000 e 15000\n",
    "salarios = np.random.randint(3000, 15001, 200)\n",
    "\n",
    "# Gerando endereços aleatórios fictícios\n",
    "enderecos = ['Rua A', 'Rua B', 'Rua C', 'Rua D', 'Rua E']\n",
    "numeros = np.random.randint(100, 1000, 200)\n",
    "enderecos_funcionarios = [f\"{np.random.choice(enderecos)}, {numero}\" for numero in numeros]\n",
    "\n",
    "# Gerando departamentos aleatórios\n",
    "departamentos = ['TI', 'Recursos Humanos', 'Produção', 'Administração', 'Vendas']\n",
    "departamentos_funcionarios = np.random.choice(departamentos, 200)\n",
    "\n",
    "# Criando o DataFrame\n",
    "dados = {\n",
    "    'Nome': funcionarios,\n",
    "    'Idade': idades,\n",
    "    'Cargo': cargos_funcionarios,\n",
    "    'Salário': salarios,\n",
    "    'Endereço': enderecos_funcionarios,\n",
    "    'Departamento': departamentos_funcionarios\n",
    "}\n",
    "\n",
    "base_de_dados = pd.DataFrame(dados)\n",
    "\n",
    "# Salvar DataFrame em um arquivo CSV\n",
    "base_de_dados.to_csv('base_de_dados.csv', index=False)\n",
    "\n",
    "print(\"Base de dados salva com sucesso em 'base_de_dados.csv'\")"
   ]
  },
  {
   "cell_type": "code",
   "execution_count": 31,
   "id": "9ac98411-064b-4e6c-82f9-d47f431cfa89",
   "metadata": {},
   "outputs": [
    {
     "data": {
      "text/html": [
       "<div>\n",
       "<style scoped>\n",
       "    .dataframe tbody tr th:only-of-type {\n",
       "        vertical-align: middle;\n",
       "    }\n",
       "\n",
       "    .dataframe tbody tr th {\n",
       "        vertical-align: top;\n",
       "    }\n",
       "\n",
       "    .dataframe thead th {\n",
       "        text-align: right;\n",
       "    }\n",
       "</style>\n",
       "<table border=\"1\" class=\"dataframe\">\n",
       "  <thead>\n",
       "    <tr style=\"text-align: right;\">\n",
       "      <th></th>\n",
       "      <th>Nome</th>\n",
       "      <th>Idade</th>\n",
       "      <th>Cargo</th>\n",
       "      <th>Salário</th>\n",
       "      <th>Endereço</th>\n",
       "      <th>Departamento</th>\n",
       "    </tr>\n",
       "  </thead>\n",
       "  <tbody>\n",
       "    <tr>\n",
       "      <th>0</th>\n",
       "      <td>Carlos</td>\n",
       "      <td>45</td>\n",
       "      <td>Gerente</td>\n",
       "      <td>6107</td>\n",
       "      <td>Rua B, 250</td>\n",
       "      <td>Vendas</td>\n",
       "    </tr>\n",
       "    <tr>\n",
       "      <th>1</th>\n",
       "      <td>João</td>\n",
       "      <td>43</td>\n",
       "      <td>Coordenador</td>\n",
       "      <td>11429</td>\n",
       "      <td>Rua B, 503</td>\n",
       "      <td>TI</td>\n",
       "    </tr>\n",
       "    <tr>\n",
       "      <th>2</th>\n",
       "      <td>Ana</td>\n",
       "      <td>40</td>\n",
       "      <td>Coordenador</td>\n",
       "      <td>9910</td>\n",
       "      <td>Rua B, 489</td>\n",
       "      <td>Vendas</td>\n",
       "    </tr>\n",
       "    <tr>\n",
       "      <th>3</th>\n",
       "      <td>Ana</td>\n",
       "      <td>49</td>\n",
       "      <td>Gerente</td>\n",
       "      <td>12497</td>\n",
       "      <td>Rua E, 904</td>\n",
       "      <td>Administração</td>\n",
       "    </tr>\n",
       "    <tr>\n",
       "      <th>4</th>\n",
       "      <td>Rafael</td>\n",
       "      <td>23</td>\n",
       "      <td>Diretor</td>\n",
       "      <td>3021</td>\n",
       "      <td>Rua E, 695</td>\n",
       "      <td>Administração</td>\n",
       "    </tr>\n",
       "  </tbody>\n",
       "</table>\n",
       "</div>"
      ],
      "text/plain": [
       "     Nome  Idade        Cargo  Salário    Endereço   Departamento\n",
       "0  Carlos     45      Gerente     6107  Rua B, 250         Vendas\n",
       "1    João     43  Coordenador    11429  Rua B, 503             TI\n",
       "2     Ana     40  Coordenador     9910  Rua B, 489         Vendas\n",
       "3     Ana     49      Gerente    12497  Rua E, 904  Administração\n",
       "4  Rafael     23      Diretor     3021  Rua E, 695  Administração"
      ]
     },
     "execution_count": 31,
     "metadata": {},
     "output_type": "execute_result"
    }
   ],
   "source": [
    "bd_funcionarios = pb.read_csv('base_de_dados.csv')\n",
    "bd_funcionarios.head()"
   ]
  },
  {
   "cell_type": "code",
   "execution_count": 32,
   "id": "f254fd2a-5aaf-4954-ab10-50b8f530be28",
   "metadata": {},
   "outputs": [
    {
     "data": {
      "text/plain": [
       "Cargo\n",
       "Diretor          34\n",
       "Engenheiro       30\n",
       "Coordenador      29\n",
       "Desenvolvedor    28\n",
       "Especialista     28\n",
       "Gerente          27\n",
       "Analista         24\n",
       "Name: count, dtype: int64"
      ]
     },
     "execution_count": 32,
     "metadata": {},
     "output_type": "execute_result"
    }
   ],
   "source": [
    "bd_funcionarios['Cargo'].value_counts() ## contar quantas entradas tem para cada valor do campo"
   ]
  },
  {
   "cell_type": "code",
   "execution_count": 34,
   "id": "54b0642a-3b24-4795-a4c7-bb14cb35f8fd",
   "metadata": {},
   "outputs": [
    {
     "data": {
      "text/html": [
       "<div>\n",
       "<style scoped>\n",
       "    .dataframe tbody tr th:only-of-type {\n",
       "        vertical-align: middle;\n",
       "    }\n",
       "\n",
       "    .dataframe tbody tr th {\n",
       "        vertical-align: top;\n",
       "    }\n",
       "\n",
       "    .dataframe thead th {\n",
       "        text-align: right;\n",
       "    }\n",
       "</style>\n",
       "<table border=\"1\" class=\"dataframe\">\n",
       "  <thead>\n",
       "    <tr style=\"text-align: right;\">\n",
       "      <th></th>\n",
       "      <th>mean</th>\n",
       "      <th>median</th>\n",
       "      <th>max</th>\n",
       "      <th>min</th>\n",
       "    </tr>\n",
       "    <tr>\n",
       "      <th>Cargo</th>\n",
       "      <th></th>\n",
       "      <th></th>\n",
       "      <th></th>\n",
       "      <th></th>\n",
       "    </tr>\n",
       "  </thead>\n",
       "  <tbody>\n",
       "    <tr>\n",
       "      <th>Analista</th>\n",
       "      <td>43.416667</td>\n",
       "      <td>45.5</td>\n",
       "      <td>59</td>\n",
       "      <td>20</td>\n",
       "    </tr>\n",
       "    <tr>\n",
       "      <th>Coordenador</th>\n",
       "      <td>39.517241</td>\n",
       "      <td>40.0</td>\n",
       "      <td>60</td>\n",
       "      <td>22</td>\n",
       "    </tr>\n",
       "    <tr>\n",
       "      <th>Desenvolvedor</th>\n",
       "      <td>36.500000</td>\n",
       "      <td>35.0</td>\n",
       "      <td>59</td>\n",
       "      <td>20</td>\n",
       "    </tr>\n",
       "    <tr>\n",
       "      <th>Diretor</th>\n",
       "      <td>41.352941</td>\n",
       "      <td>42.5</td>\n",
       "      <td>59</td>\n",
       "      <td>20</td>\n",
       "    </tr>\n",
       "    <tr>\n",
       "      <th>Engenheiro</th>\n",
       "      <td>39.166667</td>\n",
       "      <td>38.5</td>\n",
       "      <td>59</td>\n",
       "      <td>21</td>\n",
       "    </tr>\n",
       "    <tr>\n",
       "      <th>Especialista</th>\n",
       "      <td>41.714286</td>\n",
       "      <td>46.0</td>\n",
       "      <td>60</td>\n",
       "      <td>20</td>\n",
       "    </tr>\n",
       "    <tr>\n",
       "      <th>Gerente</th>\n",
       "      <td>39.444444</td>\n",
       "      <td>40.0</td>\n",
       "      <td>57</td>\n",
       "      <td>21</td>\n",
       "    </tr>\n",
       "  </tbody>\n",
       "</table>\n",
       "</div>"
      ],
      "text/plain": [
       "                    mean  median  max  min\n",
       "Cargo                                     \n",
       "Analista       43.416667    45.5   59   20\n",
       "Coordenador    39.517241    40.0   60   22\n",
       "Desenvolvedor  36.500000    35.0   59   20\n",
       "Diretor        41.352941    42.5   59   20\n",
       "Engenheiro     39.166667    38.5   59   21\n",
       "Especialista   41.714286    46.0   60   20\n",
       "Gerente        39.444444    40.0   57   21"
      ]
     },
     "execution_count": 34,
     "metadata": {},
     "output_type": "execute_result"
    }
   ],
   "source": [
    "##Cargos mais altos tem média de idade mais alta\n",
    "bd_funcionarios.groupby(['Cargo'])['Idade'].agg(['mean','median','max','min'])\n",
    "## Agrupei por cargos, onde eu peguei o campo idade e calculei a média, mediana, max e min da idade para cada cargo"
   ]
  },
  {
   "cell_type": "code",
   "execution_count": null,
   "id": "3aec9c42-9e4f-4f84-8988-7cc7643dee82",
   "metadata": {},
   "outputs": [],
   "source": []
  }
 ],
 "metadata": {
  "kernelspec": {
   "display_name": "Python 3 (ipykernel)",
   "language": "python",
   "name": "python3"
  },
  "language_info": {
   "codemirror_mode": {
    "name": "ipython",
    "version": 3
   },
   "file_extension": ".py",
   "mimetype": "text/x-python",
   "name": "python",
   "nbconvert_exporter": "python",
   "pygments_lexer": "ipython3",
   "version": "3.12.4"
  }
 },
 "nbformat": 4,
 "nbformat_minor": 5
}
